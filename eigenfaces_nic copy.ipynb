{
 "cells": [
  {
   "cell_type": "code",
   "execution_count": null,
   "metadata": {},
   "outputs": [],
   "source": [
    "import os\n",
    "import numpy as np\n",
    "import matplotlib.pyplot as plt\n",
    "import matplotlib.image as img\n",
    "from skimage import data\n",
    "from skimage.color import rgb2gray\n",
    "from PIL import Image\n",
    "import seaborn as sns"
   ]
  },
  {
   "cell_type": "code",
   "execution_count": null,
   "metadata": {},
   "outputs": [],
   "source": [
    "def read_img(path):\n",
    "    img_to_recognize = img.imread(path)\n",
    "    img_to_recognize = Image.fromarray(np.uint8(img_to_recognize))\n",
    "    img_to_recognize = img_to_recognize.resize((150, 150))\n",
    "    img_to_recognize = img_to_recognize.convert('L')\n",
    "    img_to_recognize = np.array(img_to_recognize)\n",
    "    return img_to_recognize.flatten()/255"
   ]
  },
  {
   "cell_type": "code",
   "execution_count": null,
   "metadata": {},
   "outputs": [],
   "source": [
    "def display_image_ind(matrix, index):\n",
    "    # Displays the image present in the row_{index} of the specified matrix\n",
    "    resized = np.resize(matrix[index], (150, 150))\n",
    "    plt.imshow(resized, cmap=\"gray\")\n",
    "\n",
    "\n",
    "def display_image(matrix):\n",
    "    # Displays the image present in the row_{index} of the specified matrix\n",
    "    resized = np.resize(matrix, (150, 150))\n",
    "    plt.imshow(resized, cmap=\"gray\")\n",
    "\n",
    "\n",
    "def plot_portraits(images, titles, h, w, n_row, n_col):\n",
    "    plt.figure(figsize=(2.2 * n_col, 2.2 * n_row))\n",
    "    plt.subplots_adjust(bottom=0, left=.01, right=.99, top=.90, hspace=.20)\n",
    "    for i in range(n_row * n_col):\n",
    "        plt.subplot(n_row, n_col, i + 1)\n",
    "        plt.imshow(images[i].reshape((h, w)), cmap=plt.cm.gray)\n",
    "        plt.title(titles[i])\n",
    "        plt.xticks(())\n",
    "        plt.yticks(())"
   ]
  },
  {
   "cell_type": "code",
   "execution_count": null,
   "metadata": {},
   "outputs": [],
   "source": [
    "avg_nicole = np.zeros((150, 150)) # Matrix that will later become the \"average\" image\n",
    "nicoles = [] # List that will house all individual arrays of images, will become a matrix later\n",
    "count = 1\n",
    "\n",
    "for nicole in os.listdir('faces'):\n",
    "    # Converts images to correct size and changes its color to grayscale\n",
    "    img_nicole = img.imread(os.path.join('faces',nicole))\n",
    "    img_nicole = Image.fromarray(np.uint8(img_nicole))\n",
    "    img_nicole = img_nicole.convert('L')\n",
    "    img_nicole = img_nicole.resize((150, 150))\n",
    "\n",
    "    # Turns those images into an array and append them to a list that will become a matrix of images later\n",
    "    array_nicole = np.array(img_nicole)\n",
    "    avg_nicole += array_nicole\n",
    "    nicoles.append(array_nicole.flatten()/255)\n",
    "    count += 1\n",
    "    if count > 999:\n",
    "        break\n"
   ]
  },
  {
   "cell_type": "code",
   "execution_count": null,
   "metadata": {},
   "outputs": [],
   "source": [
    "celebrity_photos=os.listdir('faces')[1:1001]\n",
    "celebrity_names=[name[:name.find('0')-1].replace(\"_\", \" \") for name in celebrity_photos]\n"
   ]
  },
  {
   "cell_type": "code",
   "execution_count": null,
   "metadata": {},
   "outputs": [],
   "source": [
    "image_matrix = np.row_stack(tuple(nicoles))\n"
   ]
  },
  {
   "cell_type": "code",
   "execution_count": null,
   "metadata": {},
   "outputs": [],
   "source": [
    "def pca(X, n_pc):\n",
    "    mean = np.mean(X, axis=0)\n",
    "    centered_data = X-mean\n",
    "    U, S, Vh = np.linalg.svd(centered_data, full_matrices=False)\n",
    "    components = Vh[:n_pc]\n",
    "    # projected = U[:,:n_pc]*S[:n_pc]\n",
    "    \n",
    "    return components, mean, centered_data, S[:n_pc]\n"
   ]
  },
  {
   "cell_type": "code",
   "execution_count": null,
   "metadata": {},
   "outputs": [],
   "source": [
    "Vh, average_matrix, subtracted, eigenvalues = pca(image_matrix, n_pc=200)\n",
    "eigenfaces = Vh.reshape((200, 150, 150))\n"
   ]
  },
  {
   "cell_type": "code",
   "execution_count": null,
   "metadata": {},
   "outputs": [],
   "source": [
    "display_image(average_matrix)"
   ]
  },
  {
   "cell_type": "code",
   "execution_count": null,
   "metadata": {},
   "outputs": [],
   "source": [
    "# eigenface_titles = [f\"eigenface {200-i}\" for i in range(eigenfaces.shape[0])]\n",
    "# plot_portraits(eigenfaces[::-1], eigenface_titles, 150, 150, 2, 5) \n",
    "# plt.savefig('lowest_eigenfaces.png', bbox_inches='tight')\n",
    "\n",
    "eigenface_titles = [f\"eigenface {i}\" for i in range(eigenfaces.shape[0])]\n",
    "plot_portraits(eigenfaces, eigenface_titles, 150, 150, 2, 5) \n",
    "# plt.savefig('highest_eigenfaces.png', bbox_inches='tight')"
   ]
  },
  {
   "cell_type": "code",
   "execution_count": null,
   "metadata": {},
   "outputs": [],
   "source": []
  },
  {
   "cell_type": "code",
   "execution_count": null,
   "metadata": {},
   "outputs": [],
   "source": [
    "display_image_ind(image_matrix, 307)\n"
   ]
  },
  {
   "cell_type": "code",
   "execution_count": null,
   "metadata": {},
   "outputs": [],
   "source": [
    "def reconstruction(sub, eigenfaces, mean, h, w, image_index):\n",
    "    n_samples, n_features = sub.shape\n",
    "    weights = np.dot(sub, eigenfaces.T)\n",
    "    centered_vector=np.dot(weights[image_index, :], eigenfaces)\n",
    "    recovered_image=(mean+centered_vector).reshape(h, w)\n",
    "    return recovered_image\n",
    "\n",
    "display_image(reconstruction(subtracted, Vh, average_matrix, 150, 150, 307))\n"
   ]
  },
  {
   "cell_type": "code",
   "execution_count": null,
   "metadata": {},
   "outputs": [],
   "source": [
    "def recognize(nicole_num):\n",
    "    # Treats input image (the one we wish to recognize)\n",
    "    path = 'faces/Luiz_Inacio_Lula_da_Silva_000' + str(nicole_num) + '.pgm'\n",
    "    # path = 's3_' + str(nicole_num) + '.jpg'\n",
    "    img_to_recognize = read_img(path)\n",
    "    subtracted_matrix_rec = img_to_recognize - average_matrix\n",
    "    display_image(subtracted_matrix_rec)\n",
    "    subtracted_matrix_rec = subtracted_matrix_rec.flatten()\n",
    "    # Projeção da imagem já subtraída da média no face space para obter o array de coeficientes (pesos de cada eigenface)\n",
    "    eigenfaces_matrix = Vh[:33,:]\n",
    "\n",
    "\n",
    "    weight = np.dot(subtracted_matrix_rec, eigenfaces_matrix.T)\n",
    "\n",
    "    projection = eigenfaces_matrix.T @ weight\n",
    "\n",
    "    proj_error = np.linalg.norm(subtracted_matrix_rec*255 - projection*255)\n",
    "\n",
    "    return proj_error\n",
    "    \n",
    "\n",
    "\n",
    "recognize(4)\n",
    "    "
   ]
  },
  {
   "cell_type": "code",
   "execution_count": null,
   "metadata": {},
   "outputs": [],
   "source": [
    "plt.plot(eigenvalues)\n",
    "plt.xticks(range(0,200,20))\n",
    "plt.xlim(-1, 100)\n",
    "plt.show()"
   ]
  }
 ],
 "metadata": {
  "interpreter": {
   "hash": "63fd5069d213b44bf678585dea6b12cceca9941eaf7f819626cde1f2670de90d"
  },
  "kernelspec": {
   "display_name": "Python 3.9.6 64-bit",
   "language": "python",
   "name": "python3"
  },
  "language_info": {
   "codemirror_mode": {
    "name": "ipython",
    "version": 3
   },
   "file_extension": ".py",
   "mimetype": "text/x-python",
   "name": "python",
   "nbconvert_exporter": "python",
   "pygments_lexer": "ipython3",
   "version": "3.9.6"
  },
  "orig_nbformat": 4
 },
 "nbformat": 4,
 "nbformat_minor": 2
}
