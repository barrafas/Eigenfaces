{
 "cells": [
  {
   "cell_type": "code",
   "execution_count": 32,
   "metadata": {},
   "outputs": [],
   "source": [
    "import os\n",
    "import numpy as np\n",
    "import matplotlib.pyplot as plt\n",
    "import matplotlib.image as img\n",
    "from skimage import data\n",
    "from skimage.color import rgb2gray\n",
    "from PIL import Image"
   ]
  },
  {
   "cell_type": "code",
   "execution_count": 33,
   "metadata": {},
   "outputs": [],
   "source": [
    "img_count = len(os.listdir('img/'))\n",
    "avg_nicole = np.zeros((150, 150))\n",
    "nicoles = []\n",
    "\n",
    "for nicole in range(1, img_count+1):\n",
    "    img_nicole = img.imread(f'img/nicole{nicole}.jpeg')\n",
    "    img_nicole = Image.fromarray(np.uint8(img_nicole))\n",
    "    img_nicole = img_nicole.convert('L')\n",
    "    img_nicole = img_nicole.resize((150, 150))\n",
    "    array_nicole = np.array(img_nicole)\n",
    "    avg_nicole += array_nicole\n",
    "    nicoles.append(array_nicole.flatten())\n",
    "    # temp_nicole = Image.fromarray(np.uint8(array_nicole))\n",
    "    # temp_nicole.show()\n",
    "\n",
    "avg_nicole = avg_nicole/img_count\n",
    "avg_nicole = Image.fromarray(np.uint8(avg_nicole))\n",
    "avg_nicole.show()"
   ]
  },
  {
   "cell_type": "code",
   "execution_count": 18,
   "metadata": {},
   "outputs": [],
   "source": [
    "nicole_matrix = np.row_stack(tuple(nicoles))\n",
    "corr = np.matmul(nicole_matrix.T, nicole_matrix)"
   ]
  },
  {
   "cell_type": "code",
   "execution_count": 10,
   "metadata": {},
   "outputs": [],
   "source": [
    "V, D = np.linalg.eig(corr)"
   ]
  },
  {
   "cell_type": "code",
   "execution_count": 6,
   "metadata": {},
   "outputs": [
    {
     "name": "stdout",
     "output_type": "stream",
     "text": [
      "[[0.+0.j 0.+0.j 0.+0.j ... 0.+0.j 0.+0.j 0.+0.j]\n",
      " [0.+0.j 0.+0.j 0.+0.j ... 0.+0.j 0.+0.j 0.+0.j]\n",
      " [0.+0.j 0.+0.j 0.+0.j ... 0.+0.j 0.+0.j 0.+0.j]\n",
      " ...\n",
      " [0.+0.j 0.+0.j 0.+0.j ... 0.+0.j 0.+0.j 0.+0.j]\n",
      " [0.+0.j 0.+0.j 0.+0.j ... 0.+0.j 0.+0.j 0.+0.j]\n",
      " [0.+0.j 0.+0.j 0.+0.j ... 0.+0.j 0.+0.j 0.+0.j]]\n"
     ]
    }
   ],
   "source": [
    "print(D)"
   ]
  },
  {
   "cell_type": "code",
   "execution_count": 14,
   "metadata": {},
   "outputs": [],
   "source": [
    "count = 0\n",
    "for array in nicole_matrix:\n",
    "    if count > 1:\n",
    "        break\n",
    "    array = array.reshape(150, 150)\n",
    "    array_img = Image.fromarray(np.uint8(array))\n",
    "    array_img.show()\n",
    "    count += 1"
   ]
  }
 ],
 "metadata": {
  "interpreter": {
   "hash": "63fd5069d213b44bf678585dea6b12cceca9941eaf7f819626cde1f2670de90d"
  },
  "kernelspec": {
   "display_name": "Python 3.9.6 64-bit",
   "language": "python",
   "name": "python3"
  },
  "language_info": {
   "codemirror_mode": {
    "name": "ipython",
    "version": 3
   },
   "file_extension": ".py",
   "mimetype": "text/x-python",
   "name": "python",
   "nbconvert_exporter": "python",
   "pygments_lexer": "ipython3",
   "version": "3.9.6"
  },
  "orig_nbformat": 4
 },
 "nbformat": 4,
 "nbformat_minor": 2
}
