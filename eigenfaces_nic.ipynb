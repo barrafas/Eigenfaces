{
 "cells": [
  {
   "cell_type": "code",
   "execution_count": null,
   "metadata": {},
   "outputs": [],
   "source": [
    "import os\n",
    "import numpy as np\n",
    "import matplotlib.pyplot as plt\n",
    "import matplotlib.image as img\n",
    "from skimage import data\n",
    "from skimage.color import rgb2gray\n",
    "from PIL import Image"
   ]
  },
  {
   "cell_type": "code",
   "execution_count": null,
   "metadata": {},
   "outputs": [],
   "source": [
    "img_count = len(os.listdir('img/')) # Gets the amount of images in the directory\n",
    "avg_nicole = np.zeros((150, 150)) # Matrix that will later become the \"average\" image\n",
    "nicoles = [] # List that will house all individual arrays of images, will become a matrix later\n",
    "\n",
    "for nicole in range(2, img_count+1):\n",
    "    # Converts images to correct size and changes its color to grayscale\n",
    "    img_nicole = img.imread(f'img/nicole{nicole}.jpeg')\n",
    "    img_nicole = Image.fromarray(np.uint8(img_nicole))\n",
    "    img_nicole = img_nicole.convert('L')\n",
    "    img_nicole = img_nicole.resize((150, 150))\n",
    "\n",
    "    # Turns those images into an array and append them to a list that will become a matrix of images later\n",
    "    array_nicole = np.array(img_nicole)\n",
    "    avg_nicole += array_nicole\n",
    "    nicoles.append(array_nicole.flatten())\n"
   ]
  },
  {
   "cell_type": "code",
   "execution_count": null,
   "metadata": {},
   "outputs": [],
   "source": [
    "avg_nicole = avg_nicole/img_count # Gets the average image\n",
    "plt.imshow(avg_nicole, cmap=\"gray\")"
   ]
  },
  {
   "cell_type": "code",
   "execution_count": null,
   "metadata": {},
   "outputs": [],
   "source": [
    "def display_image(matrix, index):\n",
    "    # Displays the image present in the row_{index} of the specified matrix\n",
    "    resized = np.resize(matrix[index], (150, 150))\n",
    "    plt.imshow(resized, cmap=\"gray\")\n",
    "\n",
    "\n"
   ]
  },
  {
   "cell_type": "code",
   "execution_count": null,
   "metadata": {},
   "outputs": [],
   "source": [
    "image_matrix = np.row_stack(tuple(nicoles))\n",
    "subtracted_matrix = image_matrix - avg_nicole.flatten()\n"
   ]
  },
  {
   "cell_type": "code",
   "execution_count": null,
   "metadata": {},
   "outputs": [],
   "source": [
    "u, s, vh = np.linalg.svd(subtracted_matrix, full_matrices=False)"
   ]
  },
  {
   "cell_type": "code",
   "execution_count": null,
   "metadata": {},
   "outputs": [],
   "source": [
    "#display_image(vh, 0)"
   ]
  },
  {
   "cell_type": "code",
   "execution_count": null,
   "metadata": {},
   "outputs": [],
   "source": [
    "def recognize(nicole_num):\n",
    "    # Treats input image (the one we wish to recognize)\n",
    "    img_to_recognize = img.imread('img/nicole'+str(nicole_num)+'.jpeg')\n",
    "    img_to_recognize = Image.fromarray(np.uint8(img_to_recognize))\n",
    "    img_to_recognize =img_to_recognize.convert('L')\n",
    "    img_to_recognize = img_to_recognize.resize((150, 150))\n",
    "    img_to_recognize = np.array(img_to_recognize).flatten()\n",
    "\n",
    "    subtracted_matrix_rec = img_to_recognize - avg_nicole.flatten()\n",
    "\n",
    "\n",
    "    # Projeção da imagem já subtraída da média no face space para obter o array de coeficientes (pesos de cada eigenface)\n",
    "    eigenfaces_matrix = vh[:3,:]\n",
    "\n",
    "    weights_img_to_recognize = []\n",
    "    for i in range(len(eigenfaces_matrix[:, 0])):\n",
    "        weight = np.dot(eigenfaces_matrix[i,:], subtracted_matrix_rec)\n",
    "        weights_img_to_recognize.append(weight)\n",
    "    weights_img_to_recognize = np.array(weights_img_to_recognize)\n",
    "\n",
    "    proj_error = np.linalg.norm(subtracted_matrix_rec - np.matmul( weights_img_to_recognize , eigenfaces_matrix))\n",
    "\n",
    "    return proj_error\n",
    "    \n",
    "\n",
    "\n",
    "\n",
    "\n",
    "recognize(1)\n",
    "    "
   ]
  }
 ],
 "metadata": {
  "interpreter": {
   "hash": "63fd5069d213b44bf678585dea6b12cceca9941eaf7f819626cde1f2670de90d"
  },
  "kernelspec": {
   "display_name": "Python 3.9.6 64-bit",
   "language": "python",
   "name": "python3"
  },
  "language_info": {
   "codemirror_mode": {
    "name": "ipython",
    "version": 3
   },
   "file_extension": ".py",
   "mimetype": "text/x-python",
   "name": "python",
   "nbconvert_exporter": "python",
   "pygments_lexer": "ipython3",
   "version": "3.9.6"
  },
  "orig_nbformat": 4
 },
 "nbformat": 4,
 "nbformat_minor": 2
}
